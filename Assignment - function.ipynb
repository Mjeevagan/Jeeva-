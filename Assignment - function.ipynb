{
 "cells": [
  {
   "cell_type": "code",
   "execution_count": 43,
   "metadata": {},
   "outputs": [],
   "source": [
    "def subfieldsAI():\n",
    "    lists=[\"ML\",\n",
    "               \"NN\",\n",
    "               \"Vision\",\n",
    "               \"Robotics\",\n",
    "               \"SP\",\n",
    "               \"NLP\"]\n",
    "    print (\"Subfield is AI are:\")\n",
    "    print(lists)\n",
    "    "
   ]
  },
  {
   "cell_type": "code",
   "execution_count": 44,
   "metadata": {},
   "outputs": [
    {
     "name": "stdout",
     "output_type": "stream",
     "text": [
      "Subfield is AI are:\n",
      "['ML', 'NN', 'Vision', 'Robotics', 'SP', 'NLP']\n"
     ]
    }
   ],
   "source": [
    "subfieldsAI()"
   ]
  },
  {
   "cell_type": "code",
   "execution_count": 66,
   "metadata": {},
   "outputs": [],
   "source": [
    "def check_even_or_odd():\n",
    "        num = int(input(\"Enter number: \"))\n",
    "        if (num%2 == 0):\n",
    "            print(f\"{num} is an even number\")\n",
    "        else:\n",
    "            print(f\"{num} is an odd number\")\n",
    "    ()"
   ]
  },
  {
   "cell_type": "code",
   "execution_count": 67,
   "metadata": {},
   "outputs": [
    {
     "name": "stdout",
     "output_type": "stream",
     "text": [
      "Enter number: 53\n",
      "53 is an odd number\n"
     ]
    }
   ],
   "source": [
    "check_even_or_odd()"
   ]
  },
  {
   "cell_type": "code",
   "execution_count": 106,
   "metadata": {},
   "outputs": [
    {
     "name": "stdout",
     "output_type": "stream",
     "text": [
      "eligble\n"
     ]
    }
   ],
   "source": [
    "def marriageeligibility(gender,age):\n",
    "        print(f\"your gender: {gender}\")\n",
    "        print(f\"your age: {age}\")\n",
    "if(gender==\"male\" and age >=18):\n",
    "            print (\"eligble\")\n",
    "else:\n",
    "        print(\"not eligible\")\n",
    "        "
   ]
  },
  {
   "cell_type": "code",
   "execution_count": 107,
   "metadata": {},
   "outputs": [
    {
     "name": "stdout",
     "output_type": "stream",
     "text": [
      "your gender: male\n",
      "your age: 25\n"
     ]
    }
   ],
   "source": [
    "marriageeligibility(gender,age)"
   ]
  },
  {
   "cell_type": "code",
   "execution_count": null,
   "metadata": {},
   "outputs": [],
   "source": []
  }
 ],
 "metadata": {
  "kernelspec": {
   "display_name": "Python 3",
   "language": "python",
   "name": "python3"
  },
  "language_info": {
   "codemirror_mode": {
    "name": "ipython",
    "version": 3
   },
   "file_extension": ".py",
   "mimetype": "text/x-python",
   "name": "python",
   "nbconvert_exporter": "python",
   "pygments_lexer": "ipython3",
   "version": "3.7.4"
  }
 },
 "nbformat": 4,
 "nbformat_minor": 2
}
